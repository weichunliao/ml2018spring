{
 "cells": [
  {
   "cell_type": "code",
   "execution_count": 2,
   "metadata": {},
   "outputs": [],
   "source": [
    "from sklearn import svm\n",
    "import numpy as np\n",
    "import cvxopt"
   ]
  },
  {
   "cell_type": "code",
   "execution_count": 3,
   "metadata": {},
   "outputs": [],
   "source": [
    "# set data\n",
    "X = np.array([\n",
    "    [1, 0],\n",
    "    [0, 1],\n",
    "    [0, -1],\n",
    "    [-1, 0],\n",
    "    [0, 2],\n",
    "    [0, -2],\n",
    "    [-2, 0]\n",
    "])\n",
    "\n",
    "# X = np.array([\n",
    "#     [-2, 0],\n",
    "#     [4, -3],\n",
    "#     [4, 1],\n",
    "#     [6, 0],\n",
    "#     [10, -5],\n",
    "#     [10, 3],\n",
    "#     [10, 3]\n",
    "# ])\n",
    "\n",
    "# X = np.array([\n",
    "#     [1,2,0,2,0],\n",
    "#     [1,0,2,0,2],\n",
    "#     [1,0,-2,0,2],\n",
    "#     [1,-2,0,2,0],\n",
    "#     [1,0,4,0,8],\n",
    "#     [1,0,-4,0,8],\n",
    "#     [1,-4,0,8,0]\n",
    "# ])\n",
    "\n",
    "\n",
    "Y = np.array([-1, -1, -1, 1, 1, 1, 1])\n",
    "\n",
    "def kernel(x1, x2):\n",
    "    tmp = 1 + 2*np.dot(x1, x2)\n",
    "    return tmp ** 2"
   ]
  },
  {
   "cell_type": "code",
   "execution_count": 4,
   "metadata": {},
   "outputs": [
    {
     "name": "stdout",
     "output_type": "stream",
     "text": [
      "(7, 2)\n",
      "     pcost       dcost       gap    pres   dres\n",
      " 0: -1.9307e+00 -3.9963e+00  2e+01  3e+00  2e+00\n",
      " 1: -2.4557e+00 -3.0153e+00  6e+00  1e+00  6e-01\n",
      " 2: -1.8544e-01 -1.2126e+00  1e+00  4e-16  1e-14\n",
      " 3: -4.6854e-01 -5.4840e-01  8e-02  2e-16  2e-15\n",
      " 4: -4.9836e-01 -5.0061e-01  2e-03  7e-17  2e-15\n",
      " 5: -4.9998e-01 -5.0001e-01  2e-05  7e-17  9e-16\n",
      " 6: -5.0000e-01 -5.0000e-01  2e-07  7e-17  1e-15\n",
      "Optimal solution found.\n",
      "[array([ 0.]), array([ 0.25]), array([ 0.25]), array([ 0.33333]), array([ 0.08333]), array([ 0.08333]), array([ 0.])]\n"
     ]
    }
   ],
   "source": [
    "# calculate Q\n",
    "\n",
    "print(X.shape)\n",
    "ndata, nfeature = X.shape\n",
    "Q_matrix = np.zeros((ndata, ndata))\n",
    "\n",
    "for i in range(ndata):\n",
    "    for j in range(i, ndata):\n",
    "        Q_matrix[i, j] = Y[i] * Y[j] * kernel(X[i], X[j])\n",
    "        Q_matrix[j, i] = Q_matrix[i, j]\n",
    "\n",
    "# for i in range(ndata):\n",
    "#     for j in range(i, ndata):\n",
    "#         Q_matrix[i, j] = Y[i] * Y[j] * np.dot(X[i], X[j])\n",
    "#         Q_matrix[j, i] = Q_matrix[i, j]\n",
    "    \n",
    "# for objective function: 1/2x'Qx - 1x\n",
    "P = cvxopt.matrix(Q_matrix, tc='d')\n",
    "q = cvxopt.matrix(-np.ones(ndata), tc='d')\n",
    "# for constraint: Gx <= h (a <= 0)\n",
    "G = cvxopt.matrix(-np.eye(ndata), tc='d')\n",
    "h = cvxopt.matrix(np.zeros(ndata), tc='d')\n",
    "# for constrant: Ax = b (y_n* alpha_n = 0)\n",
    "A = cvxopt.matrix(Y.reshape(1,-1), tc='d')\n",
    "b = cvxopt.matrix(np.zeros(1), tc='d')\n",
    "\n",
    "sol = cvxopt.solvers.qp(P, q, G, h, A, b)\n",
    "alphas = np.array(sol['x'])\n",
    "\n",
    "print([np.round(x, 5) for x in alphas])"
   ]
  },
  {
   "cell_type": "code",
   "execution_count": 30,
   "metadata": {},
   "outputs": [
    {
     "name": "stdout",
     "output_type": "stream",
     "text": [
      "2.389e-07\n",
      "[0.25, 0.25, 0.33333, 0.08333, 0.08333, 0.0]\n"
     ]
    }
   ],
   "source": [
    "b, w = sol['x'][0], (sol['x'][1:]).T\n",
    "print(round(b,10))\n",
    "print([round(x,5) for x in w])\n"
   ]
  },
  {
   "cell_type": "code",
   "execution_count": 5,
   "metadata": {},
   "outputs": [
    {
     "name": "stdout",
     "output_type": "stream",
     "text": [
      "[ -1.10297825e-15   2.49999867e-01   2.49999847e-01   3.33333083e-01\n",
      "   8.33332993e-02   8.33333319e-02   1.57683466e-14]\n",
      "['fun', 'jac', 'message', 'nfev', 'nit', 'njev', 'status', 'success', 'x']\n"
     ]
    }
   ],
   "source": [
    "import numpy as np\n",
    "from scipy import optimize\n",
    "\n",
    "X = np.array([\n",
    "    [1, 0],\n",
    "    [0, 1],\n",
    "    [0, -1],\n",
    "    [-1, 0],\n",
    "    [0, 2],\n",
    "    [0, -2],\n",
    "    [-2, 0]\n",
    "])\n",
    "\n",
    "y = np.array([-1, -1, -1, 1, 1, 1, 1])\n",
    "\n",
    "def kernel(x, y):\n",
    "    return(1 + 2*np.dot(x.T, y))**2\n",
    "\n",
    "\n",
    "# Q\n",
    "num, dim = X.shape\n",
    "Q = np.zeros((num, num))\n",
    "for n in range(num):\n",
    "    for m in range(num):\n",
    "        Q[n][m] = y[n]*y[m]*kernel(X[n], X[m])\n",
    "c = np.ones((num, 1))*-1\n",
    "\n",
    "alpha = np.ones((num, 1))\n",
    "\n",
    "\n",
    "def objective(x):\n",
    "    return (0.5*np.dot(x.T, np.dot(Q, x))+np.dot(c.T, x))\n",
    "\n",
    "\n",
    "cons = []\n",
    "for i in range(num):\n",
    "    def f(x, i=i):\n",
    "        return x[i]\n",
    "    cons.append({\"type\": \"ineq\", \"fun\": f})\n",
    "cons.append({\"type\": \"eq\", \"fun\": lambda x: np.dot(y.T, x)})\n",
    "\n",
    "res_cons = optimize.minimize(objective, alpha,\n",
    "                             constraints = cons, method='SLSQP',\n",
    "                             options={'disp': False})\n",
    "print(res_cons.x)\n",
    "print(dir(res_cons))"
   ]
  },
  {
   "cell_type": "code",
   "execution_count": 3,
   "metadata": {},
   "outputs": [
    {
     "name": "stdout",
     "output_type": "stream",
     "text": [
      "[array([-0.   , -0.666, -0.   ,  0.666,  0.333])]\n",
      "0.0\n",
      "[array([-0.833, -0.667,  0.   ,  0.667,  0.333])]\n",
      "[-0.83332399]\n"
     ]
    }
   ],
   "source": [
    "from sklearn import svm\n",
    "import numpy as np\n",
    "\n",
    "# X = np.array([\n",
    "#     [1, 0],\n",
    "#     [0, 1],\n",
    "#     [0, -1],\n",
    "#     [-1, 0],\n",
    "#     [0, 2],\n",
    "#     [0, -2],\n",
    "#     [-2, 0]\n",
    "# ])\n",
    "\n",
    "# X = np.array([\n",
    "#     [-2, 0],\n",
    "#     [4, -3],\n",
    "#     [4, 1],\n",
    "#     [6, 0],\n",
    "#     [10, -5],\n",
    "#     [10, 3],\n",
    "#     [10, 3]\n",
    "# ])\n",
    "\n",
    "X = np.array([\n",
    "    [1,2,0,2,0],\n",
    "    [1,0,2,0,2],\n",
    "    [1,0,-2,0,2],\n",
    "    [1,-2,0,2,0],\n",
    "    [1,0,4,0,8],\n",
    "    [1,0,-4,0,8],\n",
    "    [1,-4,0,8,0]\n",
    "])\n",
    "\n",
    "Y = np.array([-1, -1, -1, 1, 1, 1, 1])\n",
    "out = svm.SVC(kernel='linear', C = 100000000.0)\n",
    "out2= svm.LinearSVC(penalty= \"l2\",C=100000000.0)\n",
    "\n",
    "out.fit(X, Y)\n",
    "out2.fit(X, Y)\n",
    "\n",
    "print([np.round(i, 3) for i in out.coef_])\n",
    "print(out.intercept_)\n",
    "\n",
    "print([np.round(i, 3) for i in out2.coef_])\n",
    "print(out2.intercept_)"
   ]
  },
  {
   "cell_type": "code",
   "execution_count": 4,
   "metadata": {},
   "outputs": [
    {
     "data": {
      "text/plain": [
       "['C',\n",
       " '__abstractmethods__',\n",
       " '__class__',\n",
       " '__delattr__',\n",
       " '__dict__',\n",
       " '__dir__',\n",
       " '__doc__',\n",
       " '__eq__',\n",
       " '__format__',\n",
       " '__ge__',\n",
       " '__getattribute__',\n",
       " '__getstate__',\n",
       " '__gt__',\n",
       " '__hash__',\n",
       " '__init__',\n",
       " '__le__',\n",
       " '__lt__',\n",
       " '__module__',\n",
       " '__ne__',\n",
       " '__new__',\n",
       " '__reduce__',\n",
       " '__reduce_ex__',\n",
       " '__repr__',\n",
       " '__setattr__',\n",
       " '__setstate__',\n",
       " '__sizeof__',\n",
       " '__str__',\n",
       " '__subclasshook__',\n",
       " '__weakref__',\n",
       " '_abc_cache',\n",
       " '_abc_negative_cache',\n",
       " '_abc_negative_cache_version',\n",
       " '_abc_registry',\n",
       " '_check_proba',\n",
       " '_compute_kernel',\n",
       " '_decision_function',\n",
       " '_dense_decision_function',\n",
       " '_dense_fit',\n",
       " '_dense_predict',\n",
       " '_dense_predict_proba',\n",
       " '_dual_coef_',\n",
       " '_estimator_type',\n",
       " '_gamma',\n",
       " '_get_coef',\n",
       " '_get_param_names',\n",
       " '_impl',\n",
       " '_intercept_',\n",
       " '_pairwise',\n",
       " '_predict_log_proba',\n",
       " '_predict_proba',\n",
       " '_sparse',\n",
       " '_sparse_decision_function',\n",
       " '_sparse_fit',\n",
       " '_sparse_kernels',\n",
       " '_sparse_predict',\n",
       " '_sparse_predict_proba',\n",
       " '_validate_for_predict',\n",
       " '_validate_targets',\n",
       " '_warn_from_fit_status',\n",
       " 'cache_size',\n",
       " 'class_weight',\n",
       " 'class_weight_',\n",
       " 'classes_',\n",
       " 'coef0',\n",
       " 'coef_',\n",
       " 'decision_function',\n",
       " 'decision_function_shape',\n",
       " 'degree',\n",
       " 'dual_coef_',\n",
       " 'epsilon',\n",
       " 'fit',\n",
       " 'fit_status_',\n",
       " 'gamma',\n",
       " 'get_params',\n",
       " 'intercept_',\n",
       " 'kernel',\n",
       " 'max_iter',\n",
       " 'n_support_',\n",
       " 'nu',\n",
       " 'predict',\n",
       " 'predict_log_proba',\n",
       " 'predict_proba',\n",
       " 'probA_',\n",
       " 'probB_',\n",
       " 'probability',\n",
       " 'random_state',\n",
       " 'score',\n",
       " 'set_params',\n",
       " 'shape_fit_',\n",
       " 'shrinking',\n",
       " 'support_',\n",
       " 'support_vectors_',\n",
       " 'tol',\n",
       " 'verbose']"
      ]
     },
     "execution_count": 4,
     "metadata": {},
     "output_type": "execute_result"
    }
   ],
   "source": [
    "dir(out)"
   ]
  },
  {
   "cell_type": "code",
   "execution_count": 8,
   "metadata": {},
   "outputs": [
    {
     "data": {
      "text/plain": [
       "array([-1.666])"
      ]
     },
     "execution_count": 8,
     "metadata": {},
     "output_type": "execute_result"
    }
   ],
   "source": [
    "np.round(out.coef_, 3)\n",
    "np.round(out.intercept_, 3)"
   ]
  }
 ],
 "metadata": {
  "kernelspec": {
   "display_name": "Python 3",
   "language": "python",
   "name": "python3"
  },
  "language_info": {
   "codemirror_mode": {
    "name": "ipython",
    "version": 3
   },
   "file_extension": ".py",
   "mimetype": "text/x-python",
   "name": "python",
   "nbconvert_exporter": "python",
   "pygments_lexer": "ipython3",
   "version": "3.5.2"
  }
 },
 "nbformat": 4,
 "nbformat_minor": 2
}
