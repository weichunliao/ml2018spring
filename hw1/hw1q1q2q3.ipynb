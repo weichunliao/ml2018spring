{
 "cells": [
  {
   "cell_type": "code",
   "execution_count": 17,
   "metadata": {},
   "outputs": [],
   "source": [
    "from sklearn import svm\n",
    "import numpy as np\n",
    "import cvxopt"
   ]
  },
  {
   "cell_type": "code",
   "execution_count": 28,
   "metadata": {},
   "outputs": [],
   "source": [
    "# set data\n",
    "# X = np.array([\n",
    "#     [1, 0],\n",
    "#     [0, 1],\n",
    "#     [0, -1],\n",
    "#     [-1, 0],\n",
    "#     [0, 2],\n",
    "#     [0, -2],\n",
    "#     [-2, 0]\n",
    "# ])\n",
    "\n",
    "# X = np.array([\n",
    "#     [-2, 0],\n",
    "#     [4, -3],\n",
    "#     [4, 1],\n",
    "#     [6, 0],\n",
    "#     [10, -5],\n",
    "#     [10, 3],\n",
    "#     [10, 3]\n",
    "# ])\n",
    "\n",
    "X = np.array([\n",
    "    [1,2,0,2,0],\n",
    "    [1,0,2,0,2],\n",
    "    [1,0,-2,0,2],\n",
    "    [1,-2,0,2,0],\n",
    "    [1,0,4,0,8],\n",
    "    [1,0,-4,0,8],\n",
    "    [1,-4,0,8,0]\n",
    "])\n",
    "\n",
    "\n",
    "Y = np.array([-1, -1, -1, 1, 1, 1, 1])\n",
    "\n",
    "def kernel(x1, x2):\n",
    "    tmp = 1 + np.dot(x1, x2)\n",
    "    return tmp ** 2"
   ]
  },
  {
   "cell_type": "code",
   "execution_count": 29,
   "metadata": {},
   "outputs": [
    {
     "name": "stdout",
     "output_type": "stream",
     "text": [
      "(7, 5)\n",
      "     pcost       dcost       gap    pres   dres\n",
      " 0: -1.9307e+00 -3.9963e+00  2e+01  3e+00  2e+00\n",
      " 1: -2.4557e+00 -3.0153e+00  6e+00  1e+00  6e-01\n",
      " 2: -1.8544e-01 -1.2126e+00  1e+00  4e-16  1e-14\n",
      " 3: -4.6854e-01 -5.4840e-01  8e-02  2e-16  2e-15\n",
      " 4: -4.9836e-01 -5.0061e-01  2e-03  7e-17  2e-15\n",
      " 5: -4.9998e-01 -5.0001e-01  2e-05  7e-17  9e-16\n",
      " 6: -5.0000e-01 -5.0000e-01  2e-07  7e-17  1e-15\n",
      "Optimal solution found.\n",
      "[array([ 0.]), array([ 0.25]), array([ 0.25]), array([ 0.33333]), array([ 0.08333]), array([ 0.08333]), array([ 0.])]\n"
     ]
    }
   ],
   "source": [
    "# calculate Q\n",
    "\n",
    "print(X.shape)\n",
    "ndata, nfeature = X.shape\n",
    "Q_matrix = np.zeros((ndata, ndata))\n",
    "\n",
    "# for i in range(ndata):\n",
    "#     for j in range(i, ndata):\n",
    "#         Q_matrix[i, j] = Y[i] * Y[j] * kernel(X[i], X[j])\n",
    "#         Q_matrix[j, i] = Q_matrix[i, j]\n",
    "\n",
    "for i in range(ndata):\n",
    "    for j in range(i, ndata):\n",
    "        Q_matrix[i, j] = Y[i] * Y[j] * np.dot(X[i], X[j])\n",
    "        Q_matrix[j, i] = Q_matrix[i, j]\n",
    "    \n",
    "# for objective function: 1/2x'Qx - 1x\n",
    "P = cvxopt.matrix(Q_matrix, tc='d')\n",
    "q = cvxopt.matrix(-np.ones(ndata), tc='d')\n",
    "# for constraint: Gx <= h (a <= 0)\n",
    "G = cvxopt.matrix(-np.eye(ndata), tc='d')\n",
    "h = cvxopt.matrix(np.zeros(ndata), tc='d')\n",
    "# for constrant: Ax = b (y_n* alpha_n = 0)\n",
    "A = cvxopt.matrix(Y.reshape(1,-1), tc='d')\n",
    "b = cvxopt.matrix(np.zeros(1), tc='d')\n",
    "\n",
    "sol = cvxopt.solvers.qp(P, q, G, h, A, b)\n",
    "alphas = np.array(sol['x'])\n",
    "\n",
    "print([np.round(x, 5) for x in alphas])"
   ]
  },
  {
   "cell_type": "code",
   "execution_count": 30,
   "metadata": {},
   "outputs": [
    {
     "name": "stdout",
     "output_type": "stream",
     "text": [
      "2.389e-07\n",
      "[0.25, 0.25, 0.33333, 0.08333, 0.08333, 0.0]\n"
     ]
    }
   ],
   "source": [
    "b, w = sol['x'][0], (sol['x'][1:]).T\n",
    "print(round(b,10))\n",
    "print([round(x,5) for x in w])\n"
   ]
  },
  {
   "cell_type": "code",
   "execution_count": 32,
   "metadata": {},
   "outputs": [
    {
     "name": "stdout",
     "output_type": "stream",
     "text": [
      "[ -7.61765893e-13   7.03703695e-01   7.03703695e-01   8.88888879e-01\n",
      "   2.59259254e-01   2.59259257e-01  -7.40580335e-13]\n",
      "['fun', 'jac', 'message', 'nfev', 'nit', 'njev', 'status', 'success', 'x']\n"
     ]
    }
   ],
   "source": [
    "import numpy as np\n",
    "from scipy import optimize\n",
    "\n",
    "X = np.array([\n",
    "    [1, 0],\n",
    "    [0, 1],\n",
    "    [0, -1],\n",
    "    [-1, 0],\n",
    "    [0, 2],\n",
    "    [0, -2],\n",
    "    [-2, 0]\n",
    "])\n",
    "\n",
    "y = np.array([-1, -1, -1, 1, 1, 1, 1])\n",
    "\n",
    "def kernel(x, y):\n",
    "    return(1 + np.dot(x.T, y))**2\n",
    "\n",
    "\n",
    "# Q\n",
    "num, dim = X.shape\n",
    "Q = np.zeros((num, num))\n",
    "for n in range(num):\n",
    "    for m in range(num):\n",
    "        Q[n][m] = y[n]*y[m]*kernel(X[n], X[m])\n",
    "c = np.ones((num, 1))*-1\n",
    "\n",
    "alpha = np.ones((num, 1))\n",
    "\n",
    "\n",
    "def objective(x):\n",
    "    return (0.5*np.dot(x.T, np.dot(Q, x))+np.dot(c.T, x))\n",
    "\n",
    "\n",
    "cons = []\n",
    "for i in range(num):\n",
    "    def f(x, i=i):\n",
    "        return x[i]\n",
    "    cons.append({\"type\": \"ineq\", \"fun\": f})\n",
    "cons.append({\"type\": \"eq\", \"fun\": lambda x: np.dot(y.T, x)})\n",
    "\n",
    "res_cons = optimize.minimize(objective, alpha,\n",
    "                             constraints = cons, method='SLSQP',\n",
    "                             options={'disp': False})\n",
    "print(res_cons.x)\n",
    "print(dir(res_cons))"
   ]
  },
  {
   "cell_type": "code",
   "execution_count": 3,
   "metadata": {},
   "outputs": [
    {
     "name": "stdout",
     "output_type": "stream",
     "text": [
      "[array([-0.   , -0.666, -0.   ,  0.666,  0.333])]\n",
      "0.0\n",
      "[array([-0.833, -0.667, -0.   ,  0.667,  0.333])]\n",
      "[-0.83331882]\n"
     ]
    }
   ],
   "source": [
    "from sklearn import svm\n",
    "import numpy as np\n",
    "\n",
    "# X = np.array([\n",
    "#     [1, 0],\n",
    "#     [0, 1],\n",
    "#     [0, -1],\n",
    "#     [-1, 0],\n",
    "#     [0, 2],\n",
    "#     [0, -2],\n",
    "#     [-2, 0]\n",
    "# ])\n",
    "\n",
    "# X = np.array([\n",
    "#     [-2, 0],\n",
    "#     [4, -3],\n",
    "#     [4, 1],\n",
    "#     [6, 0],\n",
    "#     [10, -5],\n",
    "#     [10, 3],\n",
    "#     [10, 3]\n",
    "# ])\n",
    "\n",
    "X = np.array([\n",
    "    [1,2,0,2,0],\n",
    "    [1,0,2,0,2],\n",
    "    [1,0,-2,0,2],\n",
    "    [1,-2,0,2,0],\n",
    "    [1,0,4,0,8],\n",
    "    [1,0,-4,0,8],\n",
    "    [1,-4,0,8,0]\n",
    "])\n",
    "\n",
    "Y = np.array([-1, -1, -1, 1, 1, 1, 1])\n",
    "out = svm.SVC(kernel='linear', C = 100000000.0)\n",
    "out2= svm.LinearSVC(penalty= \"l2\",C=100000000.0)\n",
    "\n",
    "out.fit(X, Y)\n",
    "out2.fit(X, Y)\n",
    "\n",
    "print([np.round(i, 3) for i in out.coef_])\n",
    "print(out.coef0)\n",
    "\n",
    "print([np.round(i, 3) for i in out2.coef_])\n",
    "print(out2.intercept_)"
   ]
  },
  {
   "cell_type": "code",
   "execution_count": 1,
   "metadata": {},
   "outputs": [
    {
     "ename": "ImportError",
     "evalue": "No module named 'qps'",
     "output_type": "error",
     "traceback": [
      "\u001b[0;31m---------------------------------------------------------------------------\u001b[0m",
      "\u001b[0;31mImportError\u001b[0m                               Traceback (most recent call last)",
      "\u001b[0;32m<ipython-input-1-7ecb25d89121>\u001b[0m in \u001b[0;36m<module>\u001b[0;34m()\u001b[0m\n\u001b[1;32m      2\u001b[0m \u001b[0;32mimport\u001b[0m \u001b[0mmatplotlib\u001b[0m\u001b[0;34m.\u001b[0m\u001b[0mpyplot\u001b[0m \u001b[0;32mas\u001b[0m \u001b[0mplt\u001b[0m\u001b[0;34m\u001b[0m\u001b[0m\n\u001b[1;32m      3\u001b[0m \u001b[0;32mfrom\u001b[0m \u001b[0msklearn\u001b[0m \u001b[0;32mimport\u001b[0m \u001b[0msvm\u001b[0m\u001b[0;34m\u001b[0m\u001b[0m\n\u001b[0;32m----> 4\u001b[0;31m \u001b[0;32mimport\u001b[0m \u001b[0mqps\u001b[0m\u001b[0;34m\u001b[0m\u001b[0m\n\u001b[0m",
      "\u001b[0;31mImportError\u001b[0m: No module named 'qps'"
     ]
    }
   ],
   "source": [
    "import numpy as np\n",
    "import matplotlib.pyplot as plt\n",
    "from sklearn import svm\n",
    "import qps"
   ]
  },
  {
   "cell_type": "code",
   "execution_count": null,
   "metadata": {},
   "outputs": [],
   "source": [
    "X=[[1,0],[0,1],[0,-1],[-1,0],[0,2],[0,-2],[-2,0]]\n",
    "X = [[float(i) for i in row] for row in X]\n",
    "y = [-1,-1,-1,1,1,1,1]\n",
    "\n",
    "X = np.array(X)\n",
    "y = np.array(y)"
   ]
  },
  {
   "cell_type": "code",
   "execution_count": null,
   "metadata": {},
   "outputs": [],
   "source": [
    "def kernel(x,y):\n",
    "    return(1+2*np.dot(x.T,y))**2 \n",
    "qps.kernelSVMwithQP(X,y,kernel)"
   ]
  },
  {
   "cell_type": "code",
   "execution_count": null,
   "metadata": {},
   "outputs": [],
   "source": []
  },
  {
   "cell_type": "code",
   "execution_count": null,
   "metadata": {},
   "outputs": [],
   "source": []
  },
  {
   "cell_type": "code",
   "execution_count": null,
   "metadata": {},
   "outputs": [],
   "source": []
  }
 ],
 "metadata": {
  "kernelspec": {
   "display_name": "Python 3",
   "language": "python",
   "name": "python3"
  },
  "language_info": {
   "codemirror_mode": {
    "name": "ipython",
    "version": 3
   },
   "file_extension": ".py",
   "mimetype": "text/x-python",
   "name": "python",
   "nbconvert_exporter": "python",
   "pygments_lexer": "ipython3",
   "version": "3.5.2"
  }
 },
 "nbformat": 4,
 "nbformat_minor": 2
}
