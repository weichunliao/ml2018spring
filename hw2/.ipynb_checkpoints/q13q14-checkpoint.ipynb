{
 "cells": [
  {
   "cell_type": "code",
   "execution_count": 1,
   "metadata": {},
   "outputs": [],
   "source": [
    "import numpy as np\n",
    "from sklearn.svm import SVR"
   ]
  },
  {
   "cell_type": "code",
   "execution_count": 2,
   "metadata": {},
   "outputs": [],
   "source": [
    "def read_data(fname):\n",
    "    X,y = [], []\n",
    "    with open(fname,'r') as f:\n",
    "        for line in f:\n",
    "            d = line.split()\n",
    "            X.append([1]+[float(a) for a in d[:-1]])\n",
    "            y.append(int(d[-1]))\n",
    "    return np.array(X), np.array(y)"
   ]
  },
  {
   "cell_type": "code",
   "execution_count": 3,
   "metadata": {},
   "outputs": [],
   "source": [
    "def rbf_kernel(gamma, x_i, x_j):\n",
    "    x = x_i - x_j\n",
    "    k_ij = np.exp(-gamma * np.dot(x,x))\n",
    "    return k_ij"
   ]
  },
  {
   "cell_type": "code",
   "execution_count": 4,
   "metadata": {},
   "outputs": [
    {
     "name": "stdout",
     "output_type": "stream",
     "text": [
      "#Q13\n",
      "#Q14\n",
      "gamma:32, lambda:0.01\n",
      "\t Ein:0.4\tEout:0.48\n",
      "gamma:32, lambda:0.1\n",
      "\t Ein:0.4\tEout:0.48\n",
      "gamma:32, lambda:1\n",
      "\t Ein:0.0\tEout:0.48\n",
      "gamma:32, lambda:10\n",
      "\t Ein:0.0\tEout:0.48\n",
      "gamma:32, lambda:100\n",
      "\t Ein:0.0\tEout:0.48\n",
      "gamma:2, lambda:0.01\n",
      "\t Ein:0.4\tEout:0.48\n",
      "gamma:2, lambda:0.1\n",
      "\t Ein:0.4\tEout:0.48\n",
      "gamma:2, lambda:1\n",
      "\t Ein:0.0\tEout:0.48\n",
      "gamma:2, lambda:10\n",
      "\t Ein:0.0\tEout:0.48\n",
      "gamma:2, lambda:100\n",
      "\t Ein:0.0\tEout:0.48\n",
      "gamma:0.125, lambda:0.01\n",
      "\t Ein:0.4\tEout:0.48\n",
      "gamma:0.125, lambda:0.1\n",
      "\t Ein:0.3825\tEout:0.49\n",
      "gamma:0.125, lambda:1\n",
      "\t Ein:0.035\tEout:0.42\n",
      "gamma:0.125, lambda:10\n",
      "\t Ein:0.0\tEout:0.47\n",
      "gamma:0.125, lambda:100\n",
      "\t Ein:0.0\tEout:0.47\n"
     ]
    }
   ],
   "source": [
    "if __name__ == '__main__':\n",
    "\n",
    "    X, Y = read_data('/home/chun/Desktop/ml2018spring/hw2/hw2_lssvm_all.dat')\n",
    "    X_train = X[:400] \n",
    "    Y_train = Y[:400]\n",
    "    X_test = X[400:]\n",
    "    Y_test = Y[400:]\n",
    "\n",
    "    print('#Q13')\n",
    "    print('#Q14')\n",
    "\n",
    "    ndata = len(X_train)\n",
    "    for gamma in [32,2,0.125]:\n",
    "        for lamda in [0.01, 0.1, 1, 10, 100]:\n",
    "            svr = SVR(kernel='rbf', epsilon=0.5, C=lamda, gamma=gamma)\n",
    "#             c = ndata/lamda\n",
    "#             svr = SVR(kernel='rbf', epsilon=0.5, C=c, gamma=gamma)\n",
    "            fit = svr.fit(X_train, Y_train)\n",
    "            ein = np.sum(np.sign(fit.predict(X_train))!=Y_train)/len(Y_train)\n",
    "            eout = np.sum(np.sign(fit.predict(X_test))!=Y_test)/len(Y_test)\n",
    "            print('gamma:{}, lambda:{}\\n\\t Ein:{}\\tEout:{}'.format(gamma, lamda, ein, eout))\n",
    "            "
   ]
  }
 ],
 "metadata": {
  "kernelspec": {
   "display_name": "Python 3",
   "language": "python",
   "name": "python3"
  },
  "language_info": {
   "codemirror_mode": {
    "name": "ipython",
    "version": 3
   },
   "file_extension": ".py",
   "mimetype": "text/x-python",
   "name": "python",
   "nbconvert_exporter": "python",
   "pygments_lexer": "ipython3",
   "version": "3.5.2"
  }
 },
 "nbformat": 4,
 "nbformat_minor": 2
}
