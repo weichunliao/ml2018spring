{
 "cells": [
  {
   "cell_type": "code",
   "execution_count": 3,
   "metadata": {},
   "outputs": [],
   "source": [
    "import numpy as np\n",
    "# import "
   ]
  },
  {
   "cell_type": "code",
   "execution_count": 5,
   "metadata": {},
   "outputs": [],
   "source": [
    "def read_data(fname):\n",
    "    X,y = [], []\n",
    "    with open(fname,'r') as f:\n",
    "        for line in f:\n",
    "            d = line.split()\n",
    "            X.append([float(a) for a in d[:-1]])\n",
    "            y.append(int(d[-1]))\n",
    "    return np.array(X), np.array(y)"
   ]
  },
  {
   "cell_type": "code",
   "execution_count": 6,
   "metadata": {},
   "outputs": [],
   "source": [
    "def rbf_kernel(gamma, x_i, x_j):\n",
    "    x = x_i - x_j\n",
    "    k_ij = np.exp(-gamma * np.dot(x,x))\n",
    "    return k_ij"
   ]
  },
  {
   "cell_type": "code",
   "execution_count": 7,
   "metadata": {},
   "outputs": [],
   "source": [
    "def set_kernel_matrix(X, kernel):\n",
    "    size = X.shape[0]\n",
    "    K = np.zeros((size,size))\n",
    "    for i in range(size):\n",
    "        for j in range(i+1):\n",
    "            K[i,j] = kernel(X[i],X[j])\n",
    "            K[j,i] = K[i,j]\n",
    "    return K"
   ]
  },
  {
   "cell_type": "code",
   "execution_count": 8,
   "metadata": {},
   "outputs": [],
   "source": [
    "def solve_eq(K_mat, lamda, y):\n",
    "    return np.linalg.solve(K_mat + np.eye(K_mat.shape[0]) * lamda, y)"
   ]
  },
  {
   "cell_type": "code",
   "execution_count": 9,
   "metadata": {},
   "outputs": [],
   "source": [
    "def pred(test_x, X, beta, kernel):\n",
    "    score = np.array([kernel(test_x, v) for v in X])\n",
    "    score = score * beta\n",
    "    score = np.sum(score)\n",
    "    return np.sign(score)"
   ]
  },
  {
   "cell_type": "code",
   "execution_count": 10,
   "metadata": {},
   "outputs": [
    {
     "name": "stdout",
     "output_type": "stream",
     "text": [
      "#Q11\n",
      "#Q12\n",
      "gamma:32, lambda:0.001\n",
      "\t Ein:0\t Eout:45\n",
      "gamma:32, lambda:1\n",
      "\t Ein:0\t Eout:45\n",
      "gamma:32, lambda:1000\n",
      "\t Ein:0\t Eout:45\n",
      "gamma:2, lambda:0.001\n",
      "\t Ein:0\t Eout:44\n",
      "gamma:2, lambda:1\n",
      "\t Ein:0\t Eout:44\n",
      "gamma:2, lambda:1000\n",
      "\t Ein:0\t Eout:44\n",
      "gamma:0.125, lambda:0.001\n",
      "\t Ein:0\t Eout:46\n",
      "gamma:0.125, lambda:1\n",
      "\t Ein:12\t Eout:45\n",
      "gamma:0.125, lambda:1000\n",
      "\t Ein:97\t Eout:39\n"
     ]
    }
   ],
   "source": [
    "# if __name__ == '__main__':\n",
    "    \n",
    "X, Y = read_data('/home/chun/Desktop/ml2018spring/hw2/hw2_lssvm_all.dat')\n",
    "X_train = X[:400] \n",
    "Y_train = Y[:400]\n",
    "X_test = X[400:]\n",
    "Y_test = Y[400:]\n",
    "\n",
    "print('#Q11')\n",
    "print('#Q12')\n",
    "for gamma in [32, 2, 0.125]:\n",
    "    for lamda in [0.001, 1, 1000]:\n",
    "        kernel = lambda x1, x2: rbf_kernel(gamma, x1, x2)\n",
    "        K = set_kernel_matrix(X_train, kernel)\n",
    "        beta = solve_eq(K, lamda, Y_train)\n",
    "        ein = 0\n",
    "        for x, y in zip(X_train, Y_train):\n",
    "            ein += int(pred(x, X_train, beta, kernel) != y)\n",
    "#         print('Ein',ein/len(X_train))\n",
    "        eout = 0\n",
    "        for x, y in zip(X_test, Y_test):\n",
    "            eout += int(pred(x, X_train, beta, kernel) != y)\n",
    "#         print('Eout',eout/len(X_test))\n",
    "        print('gamma:{}, lambda:{}\\n\\t Ein:{}\\t Eout:{}'.format(gamma, lamda, ein, eout))"
   ]
  }
 ],
 "metadata": {
  "kernelspec": {
   "display_name": "Python 3",
   "language": "python",
   "name": "python3"
  },
  "language_info": {
   "codemirror_mode": {
    "name": "ipython",
    "version": 3
   },
   "file_extension": ".py",
   "mimetype": "text/x-python",
   "name": "python",
   "nbconvert_exporter": "python",
   "pygments_lexer": "ipython3",
   "version": "3.5.2"
  }
 },
 "nbformat": 4,
 "nbformat_minor": 2
}
