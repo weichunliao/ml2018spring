{
 "cells": [
  {
   "cell_type": "code",
   "execution_count": 1,
   "metadata": {},
   "outputs": [],
   "source": [
    "import numpy as np"
   ]
  },
  {
   "cell_type": "code",
   "execution_count": 2,
   "metadata": {},
   "outputs": [],
   "source": [
    "def read_data(fname):\n",
    "    X,y = [], []\n",
    "    with open(fname,'r') as f:\n",
    "        for line in f:\n",
    "            d = line.split()\n",
    "            X.append([1.0]+[float(a) for a in d[:-1]])\n",
    "            y.append(int(d[-1]))\n",
    "    return np.array(X), np.array(y)"
   ]
  },
  {
   "cell_type": "code",
   "execution_count": 3,
   "metadata": {},
   "outputs": [],
   "source": [
    "def linear_kernel(x1, x2):\n",
    "    return np.dot(x1,x2)"
   ]
  },
  {
   "cell_type": "code",
   "execution_count": 4,
   "metadata": {},
   "outputs": [],
   "source": [
    "def set_kernel_matrix(X, kernel):\n",
    "    size = X.shape[0]\n",
    "    K = np.zeros((size,size))\n",
    "    for i in range(size):\n",
    "        for j in range(i+1):\n",
    "            K[i,j] = kernel(X[i],X[j])\n",
    "            K[j,i] = K[i,j]\n",
    "    return K\n",
    "\n",
    "def solve_beta(K_mat, lamda, y):\n",
    "    return np.linalg.solve(K_mat + np.eye(K_mat.shape[0]) * lamda, y)\n",
    "\n",
    "def pred(test_x, X, beta, kernel):\n",
    "    score = np.array([kernel(test_x, v) for v in X])\n",
    "    score = score* beta\n",
    "    score = np.sum(score)\n",
    "    return int(np.sign(score))"
   ]
  },
  {
   "cell_type": "code",
   "execution_count": 5,
   "metadata": {},
   "outputs": [],
   "source": [
    "def bootstrap_resample(X, y , resample_n):\n",
    "    n_data = len(X)\n",
    "    resample_i = np.floor(np.random.rand(resample_n)*n_data).astype(int)\n",
    "    X_resample = X[resample_i]\n",
    "    y_resmaple = y[resample_i]\n",
    "    return X_resample, y_resmaple"
   ]
  },
  {
   "cell_type": "code",
   "execution_count": 8,
   "metadata": {},
   "outputs": [
    {
     "name": "stdout",
     "output_type": "stream",
     "text": [
      "#Q15\n",
      "#Q16\n",
      "lambda: 0.01 , Ein: 0.315 , Eout: 0.36\n",
      "lambda: 0.1 , Ein: 0.32 , Eout: 0.36\n",
      "lambda: 1 , Ein: 0.32 , Eout: 0.36\n",
      "lambda: 10 , Ein: 0.315 , Eout: 0.38\n",
      "lambda: 100 , Ein: 0.315 , Eout: 0.4\n"
     ]
    }
   ],
   "source": [
    "if __name__ == '__main__':\n",
    "\n",
    "    X, Y = read_data('/home/chun/Desktop/ml2018spring/hw2/hw2_lssvm_all.dat')\n",
    "    X_train = X[:400] \n",
    "    Y_train = Y[:400]\n",
    "    X_test = X[400:]\n",
    "    Y_test = Y[400:]\n",
    "\n",
    "    print('#Q15')\n",
    "    print('#Q16')\n",
    "\n",
    "    for lamda in (0.01, 0.1, 1, 10, 100):\n",
    "        ein_predictions = [0]*len(Y_train)\n",
    "        eout_predictions = [0]*len(Y_test)\n",
    "        for _ in range(250):\n",
    "            resample_X, resmaple_y = bootstrap_resample(X_train, Y_train, 400)\n",
    "            K = set_kernel_matrix(resample_X, linear_kernel)\n",
    "            beta = solve_beta(K, lamda, resmaple_y)\n",
    "            ein = 0\n",
    "            for i in range(len(Y_train)):\n",
    "                x = X_train[i]\n",
    "                y = Y_train[i]\n",
    "                ein_predictions[i] += pred(x, resample_X, beta, linear_kernel)\n",
    "            eout = 0\n",
    "            for i in range(len(Y_test)):\n",
    "                x = X_test[i]\n",
    "                y = Y_test[i]\n",
    "                eout_predictions[i] += pred(x, resample_X, beta, linear_kernel)\n",
    "        Ein = np.sum(np.sign(ein_predictions) != Y_train)/len(Y_train)\n",
    "        Eout = np.sum(np.sign(eout_predictions) != Y_test)/len(Y_test)\n",
    "        print('lambda:', lamda,', Ein:', Ein, ', Eout:', Eout)"
   ]
  },
  {
   "cell_type": "code",
   "execution_count": null,
   "metadata": {},
   "outputs": [],
   "source": []
  }
 ],
 "metadata": {
  "kernelspec": {
   "display_name": "Python 3",
   "language": "python",
   "name": "python3"
  },
  "language_info": {
   "codemirror_mode": {
    "name": "ipython",
    "version": 3
   },
   "file_extension": ".py",
   "mimetype": "text/x-python",
   "name": "python",
   "nbconvert_exporter": "python",
   "pygments_lexer": "ipython3",
   "version": "3.5.2"
  }
 },
 "nbformat": 4,
 "nbformat_minor": 2
}
